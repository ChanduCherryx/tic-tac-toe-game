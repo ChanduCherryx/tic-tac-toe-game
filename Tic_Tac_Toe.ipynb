{
  "nbformat": 4,
  "nbformat_minor": 0,
  "metadata": {
    "colab": {
      "provenance": [],
      "authorship_tag": "ABX9TyOjhV4JUDYgJu8BEtywvXxR",
      "include_colab_link": true
    },
    "kernelspec": {
      "name": "python3",
      "display_name": "Python 3"
    },
    "language_info": {
      "name": "python"
    }
  },
  "cells": [
    {
      "cell_type": "markdown",
      "metadata": {
        "id": "view-in-github",
        "colab_type": "text"
      },
      "source": [
        "<a href=\"https://colab.research.google.com/github/ChanduCherryx/tic-tac-toe-game/blob/main/Tic_Tac_Toe.ipynb\" target=\"_parent\"><img src=\"https://colab.research.google.com/assets/colab-badge.svg\" alt=\"Open In Colab\"/></a>"
      ]
    },
    {
      "cell_type": "code",
      "source": [
        "# Create the game board\n",
        "board = [' ' for i in range(9)]\n",
        "\n",
        "# Define the winning combinations\n",
        "winning_combinations = [(0, 1, 2), (3, 4, 5), (6, 7, 8),\n",
        "                        (0, 3, 6), (1, 4, 7), (2, 5, 8),\n",
        "                        (0, 4, 8), (2, 4, 6)]\n",
        "\n",
        "# Define the function to print the board\n",
        "def print_board():\n",
        "    print('-------------')\n",
        "    print('| ' + board[0] + ' | ' + board[1] + ' | ' + board[2] + ' |')\n",
        "    print('-------------')\n",
        "    print('| ' + board[3] + ' | ' + board[4] + ' | ' + board[5] + ' |')\n",
        "    print('-------------')\n",
        "    print('| ' + board[6] + ' | ' + board[7] + ' | ' + board[8] + ' |')\n",
        "    print('-------------')\n",
        "\n",
        "# Define the function to check for a winner\n",
        "def check_winner(player):\n",
        "    for combination in winning_combinations:\n",
        "        if board[combination[0]] == board[combination[1]] == board[combination[2]] == player:\n",
        "            return True\n",
        "    return False\n",
        "\n",
        "# Define the main game loop\n",
        "def game_loop():\n",
        "    current_player = 'X'\n",
        "    while True:\n",
        "        print_board()\n",
        "        move = input(\"Player \" + current_player + \", make your move (1-9): \")\n",
        "        move = int(move) - 1\n",
        "        if board[move] == ' ':\n",
        "            board[move] = current_player\n",
        "            if check_winner(current_player):\n",
        "                print_board()\n",
        "                print(\"Player \" + current_player + \" wins!\")\n",
        "                break\n",
        "            elif ' ' not in board:\n",
        "                print_board()\n",
        "                print(\"Game over! It's a tie!\")\n",
        "                break\n",
        "            else:\n",
        "                current_player = 'O' if current_player == 'X' else 'X'\n",
        "        else:\n",
        "            print(\"That spot is already taken! Try again.\")\n",
        "\n",
        "# Start the game\n",
        "game_loop()\n"
      ],
      "metadata": {
        "colab": {
          "base_uri": "https://localhost:8080/"
        },
        "id": "U3wfGqnnrpRu",
        "outputId": "3dbcdc79-db59-40f4-edf0-158358f9ed27"
      },
      "execution_count": null,
      "outputs": [
        {
          "output_type": "stream",
          "name": "stdout",
          "text": [
            "-------------\n",
            "|   |   |   |\n",
            "-------------\n",
            "|   |   |   |\n",
            "-------------\n",
            "|   |   |   |\n",
            "-------------\n"
          ]
        }
      ]
    }
  ]
}